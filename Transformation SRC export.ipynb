{
 "cells": [
  {
   "cell_type": "markdown",
   "id": "847c3cc8-f27b-45e2-9502-47ca81fe7b1d",
   "metadata": {},
   "source": [
    "# SRC PIM export Transformation \n",
    "\n",
    "Code to transform SRC PIM export to a Excel file with only the columns necessary\n",
    "*This file can be sent to clients*\n",
    "\n",
    "**Directory:** \n",
    "'C:\\\\Users\\\\MXD0824\\\\OneDrive - Stanley Black & Decker\\\\ SRC PIM\\\\ Python Project Export\\\\'\n",
    "\n",
    "**Files used:** \n",
    "Colums_to_keep.xlsx\n",
    "GS1_PIM_export.xlsx\n",
    "\n",
    "The file will be saved in Directory: C:\\\\Users\\\\MXD0824\\\\OneDrive - Stanley Black & Decker\\\\SRC PIM\\\\Python Project Export\\\\Export_Correct_Order\n"
   ]
  },
  {
   "cell_type": "code",
   "execution_count": 103,
   "id": "192968a5-f23a-44cc-ad92-b44ea4fa2d75",
   "metadata": {},
   "outputs": [],
   "source": [
    "# import necessary datareading tools\n",
    "\n",
    "import pandas as pd\n",
    "import tkinter as dk\n",
    "import os\n",
    "from datetime import datetime"
   ]
  },
  {
   "cell_type": "code",
   "execution_count": 82,
   "id": "a19fff41-8fd8-4557-900a-8920a4c3dc30",
   "metadata": {},
   "outputs": [],
   "source": [
    "# Define variables\n",
    "\n",
    "current_datetime = 'dt.now()'\n",
    "final_columns = 'C:\\\\Users\\\\MXD0824\\\\OneDrive - Stanley Black & Decker\\\\SRC PIM\\\\Python Project Export\\\\Columns_to_keep.xlsx'\n",
    "gs1_export_src = 'C:\\\\Users\\\\MXD0824\\\\OneDrive - Stanley Black & Decker\\\\SRC PIM\\\\Python Project Export\\\\GS1_PIM_export.xlsx'\n",
    "directory = 'C:\\\\Users\\\\MXD0824\\\\OneDrive - Stanley Black & Decker\\\\SRC PIM\\\\Python Project Export\\\\Export_Correct_Order'"
   ]
  },
  {
   "cell_type": "code",
   "execution_count": 83,
   "id": "62d9c31f-85ec-43a6-9d60-b7ab39be91c0",
   "metadata": {},
   "outputs": [],
   "source": [
    "# Define the colums to keep\n",
    "\n",
    "Columns_to_keep_df = pd.read_excel(final_columns)"
   ]
  },
  {
   "cell_type": "code",
   "execution_count": 84,
   "id": "a64421f3-c221-4944-b0a0-879d8e68058c",
   "metadata": {},
   "outputs": [],
   "source": [
    "# Convert the columns names to list\n",
    "\n",
    "columns_to_keep = Columns_to_keep_df['Finale lijst'].tolist()"
   ]
  },
  {
   "cell_type": "code",
   "execution_count": 85,
   "id": "f0e2fd76-4036-403e-be42-539a5898b3bc",
   "metadata": {},
   "outputs": [],
   "source": [
    "# Read the SRC PIM export Excel file\n",
    "\n",
    "pim_export_df = pd.read_excel(gs1_export_src)"
   ]
  },
  {
   "cell_type": "code",
   "execution_count": 86,
   "id": "7c4354ad-dd52-4370-a3a6-cafdd139e0d1",
   "metadata": {},
   "outputs": [],
   "source": [
    "# Delete Columns not in list \n",
    "\n",
    "Columns_to_delete = [col for col in pim_export_df if col not in columns_to_keep]\n",
    "pim_export_df.drop(columns=Columns_to_delete, inplace=True)"
   ]
  },
  {
   "cell_type": "code",
   "execution_count": 87,
   "id": "ed1d28cf-48ce-481c-aa6f-69b6c84210c9",
   "metadata": {},
   "outputs": [],
   "source": [
    "# Sort Columns to match order in the list\n",
    "\n",
    "pim_export_df = pim_export_df.reindex(columns=columns_to_keep)"
   ]
  },
  {
   "cell_type": "code",
   "execution_count": 88,
   "id": "799668d8-73f7-47f7-84a7-eaac26cfb2c1",
   "metadata": {},
   "outputs": [],
   "source": [
    "# Save to directory\n",
    "\n",
    "os.chdir(directory)"
   ]
  },
  {
   "cell_type": "code",
   "execution_count": 104,
   "id": "478a313b-bd38-4fcf-bfb9-4f7fdf44b915",
   "metadata": {},
   "outputs": [],
   "source": [
    "# Create output file with current date stamp\n",
    "\n",
    "current_datetime = datetime.now().strftime('%Y-%m-%d_%H-%M')\n",
    "output_file_name = f'transformed_pim_export_{current_datetime}.xlsx'"
   ]
  },
  {
   "cell_type": "code",
   "execution_count": 106,
   "id": "dc366bb1-5628-4a94-9af6-e7529ccc2a53",
   "metadata": {},
   "outputs": [],
   "source": [
    "# Save the result as a New Excel file with current Date and Time\n",
    "\n",
    "pim_export_df.to_excel(f\"transformed_pim_export_{current_datetime}.xlsx\", index=False)"
   ]
  }
 ],
 "metadata": {
  "kernelspec": {
   "display_name": "Python 3 (ipykernel)",
   "language": "python",
   "name": "python3"
  },
  "language_info": {
   "codemirror_mode": {
    "name": "ipython",
    "version": 3
   },
   "file_extension": ".py",
   "mimetype": "text/x-python",
   "name": "python",
   "nbconvert_exporter": "python",
   "pygments_lexer": "ipython3",
   "version": "3.11.7"
  }
 },
 "nbformat": 4,
 "nbformat_minor": 5
}
